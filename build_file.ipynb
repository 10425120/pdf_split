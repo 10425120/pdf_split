{
 "cells": [
  {
   "cell_type": "markdown",
   "metadata": {},
   "source": [
    "# Title1 前處理  先跑有沒有該檔案的file\n",
    "沒有就建立新的  有就跑Title 2"
   ]
  },
  {
   "cell_type": "code",
   "execution_count": 1,
   "metadata": {},
   "outputs": [],
   "source": [
    "import os"
   ]
  },
  {
   "cell_type": "code",
   "execution_count": 2,
   "metadata": {},
   "outputs": [
    {
     "data": {
      "text/plain": [
       "'C:\\\\Users\\\\Cai\\\\pdf_split'"
      ]
     },
     "execution_count": 2,
     "metadata": {},
     "output_type": "execute_result"
    }
   ],
   "source": [
    "#getcwd() 取得現在路徑 使用 import os套件\n",
    "#如果要指定路徑就改這邊\n",
    "#後面城市都是吃這條路徑，所以這邊用絕對路徑時要在上一層路徑build\n",
    "path=os.getcwd()\n",
    "out_path=path\n",
    "png_path=path\n",
    "path"
   ]
  },
  {
   "cell_type": "code",
   "execution_count": 3,
   "metadata": {},
   "outputs": [
    {
     "data": {
      "text/plain": [
       "'C:\\\\Users\\\\Cai\\\\pdf_split'"
      ]
     },
     "execution_count": 3,
     "metadata": {},
     "output_type": "execute_result"
    }
   ],
   "source": [
    "out_path"
   ]
  },
  {
   "cell_type": "markdown",
   "metadata": {},
   "source": [
    "# 1-1 建立輸出資料夾 and 抓取欲分析之檔案路徑 \n",
    "(不管是否已經有該路徑都檢查)"
   ]
  },
  {
   "cell_type": "code",
   "execution_count": 4,
   "metadata": {},
   "outputs": [],
   "source": [
    "#path_of_process 此為欲分析之路徑\n",
    "#這邊我是去跑資料夾名稱為 path_of_process='fulename' 抓取裡面全部PDF\n",
    "#每次只需要改 path_of_process 你想要分析的資料夾\n",
    "path_of_process='900'"
   ]
  },
  {
   "cell_type": "code",
   "execution_count": 5,
   "metadata": {},
   "outputs": [],
   "source": [
    "file='\\\\'+path_of_process\n",
    "file_export='\\\\'+path_of_process+'_export'\n",
    "file_export_png='\\\\'+path_of_process+'_export_png'"
   ]
  },
  {
   "cell_type": "code",
   "execution_count": 6,
   "metadata": {},
   "outputs": [
    {
     "data": {
      "text/plain": [
       "'\\\\900'"
      ]
     },
     "execution_count": 6,
     "metadata": {},
     "output_type": "execute_result"
    }
   ],
   "source": [
    "file"
   ]
  },
  {
   "cell_type": "code",
   "execution_count": 7,
   "metadata": {},
   "outputs": [
    {
     "data": {
      "text/plain": [
       "'\\\\900_export'"
      ]
     },
     "execution_count": 7,
     "metadata": {},
     "output_type": "execute_result"
    }
   ],
   "source": [
    "file_export"
   ]
  },
  {
   "cell_type": "code",
   "execution_count": 8,
   "metadata": {},
   "outputs": [
    {
     "data": {
      "text/plain": [
       "'\\\\900_export_png'"
      ]
     },
     "execution_count": 8,
     "metadata": {},
     "output_type": "execute_result"
    }
   ],
   "source": [
    "file_export_png"
   ]
  },
  {
   "cell_type": "code",
   "execution_count": 9,
   "metadata": {},
   "outputs": [],
   "source": [
    "path+=file\n",
    "out_path+='\\\\split_done\\\\pdf'+file_export\n",
    "png_path+='\\\\split_done\\\\png'+file_export_png"
   ]
  },
  {
   "cell_type": "code",
   "execution_count": 10,
   "metadata": {},
   "outputs": [
    {
     "data": {
      "text/plain": [
       "'C:\\\\Users\\\\Cai\\\\pdf_split\\\\900'"
      ]
     },
     "execution_count": 10,
     "metadata": {},
     "output_type": "execute_result"
    }
   ],
   "source": [
    "#分析之path\n",
    "path"
   ]
  },
  {
   "cell_type": "code",
   "execution_count": 11,
   "metadata": {},
   "outputs": [
    {
     "data": {
      "text/plain": [
       "'C:\\\\Users\\\\Cai\\\\pdf_split\\\\split_done\\\\pdf\\\\900_export'"
      ]
     },
     "execution_count": 11,
     "metadata": {},
     "output_type": "execute_result"
    }
   ],
   "source": [
    "#output path pdf\n",
    "out_path"
   ]
  },
  {
   "cell_type": "code",
   "execution_count": 12,
   "metadata": {},
   "outputs": [],
   "source": [
    "#png path"
   ]
  },
  {
   "cell_type": "code",
   "execution_count": 13,
   "metadata": {},
   "outputs": [
    {
     "data": {
      "text/plain": [
       "'C:\\\\Users\\\\Cai\\\\pdf_split\\\\split_done\\\\png\\\\900_export_png'"
      ]
     },
     "execution_count": 13,
     "metadata": {},
     "output_type": "execute_result"
    }
   ],
   "source": [
    "png_path"
   ]
  },
  {
   "cell_type": "code",
   "execution_count": 14,
   "metadata": {},
   "outputs": [
    {
     "data": {
      "text/plain": [
       "['01-AI9202XX-1F.pdf']"
      ]
     },
     "execution_count": 14,
     "metadata": {},
     "output_type": "execute_result"
    }
   ],
   "source": [
    "#抓取path下的全部檔案\n",
    "#os 套件  os.listdir(path)\n",
    "#會抓取全部檔案名\n",
    "cad=os.listdir(path)\n",
    "cad"
   ]
  },
  {
   "cell_type": "code",
   "execution_count": 15,
   "metadata": {},
   "outputs": [
    {
     "name": "stdout",
     "output_type": "stream",
     "text": [
      "01-AI9202XX-1F\n"
     ]
    }
   ],
   "source": [
    "#輸出檔案時不能直接用os.listdir(path)\n",
    "#不然輸出時會變成 x.pdf.pdf 兩個pdf \n",
    "#因此此步驟需要做切割\n",
    "#使用os.path,splitext(pdf[i]) 會對 .  split 切割成陣列   故位置0為檔案名稱  位置1為副檔名 (下1)\n",
    "#cad[i] 是抓到全部具有附檔名之檔案\n",
    "file_name=[]\n",
    "file_namepath=[]\n",
    "file_namepath_pdf=[]\n",
    "for i in range(len(cad)):\n",
    "    #只取檔案名稱  1\n",
    "    file_name.append(os.path.splitext(cad[i])[0])\n",
    "    #把加入path(即後面每個檔案都有自己的檔名資料夾)\n",
    "    file_namepath.append(path+'\\\\'+os.path.splitext(cad[i])[0])\n",
    "    #加入後就變path下都有.pdf\n",
    "    file_namepath_pdf.append(path+'\\\\'+cad[i])\n",
    "    print(os.path.splitext(cad[i])[0])"
   ]
  },
  {
   "cell_type": "code",
   "execution_count": 16,
   "metadata": {},
   "outputs": [
    {
     "data": {
      "text/plain": [
       "['C:\\\\Users\\\\Cai\\\\pdf_split\\\\900\\\\01-AI9202XX-1F.pdf']"
      ]
     },
     "execution_count": 16,
     "metadata": {},
     "output_type": "execute_result"
    }
   ],
   "source": [
    "file_namepath_pdf"
   ]
  },
  {
   "cell_type": "code",
   "execution_count": 17,
   "metadata": {},
   "outputs": [
    {
     "data": {
      "text/plain": [
       "['01-AI9202XX-1F']"
      ]
     },
     "execution_count": 17,
     "metadata": {},
     "output_type": "execute_result"
    }
   ],
   "source": [
    "file_name"
   ]
  },
  {
   "cell_type": "code",
   "execution_count": 18,
   "metadata": {},
   "outputs": [],
   "source": [
    "#沒有該資料夾就新建\n",
    "#這邊是用來建立每個pdf的位置"
   ]
  },
  {
   "cell_type": "code",
   "execution_count": 19,
   "metadata": {},
   "outputs": [
    {
     "data": {
      "text/plain": [
       "'C:\\\\Users\\\\Cai\\\\pdf_split\\\\900'"
      ]
     },
     "execution_count": 19,
     "metadata": {},
     "output_type": "execute_result"
    }
   ],
   "source": [
    "#如果沒有 path 的路徑資料夾的話 build\n",
    "if not os.path.isdir(path):\n",
    "    os.mkdir(path)\n",
    "path"
   ]
  },
  {
   "cell_type": "code",
   "execution_count": 20,
   "metadata": {},
   "outputs": [
    {
     "data": {
      "text/plain": [
       "'C:\\\\Users\\\\Cai\\\\pdf_split\\\\split_done\\\\png\\\\900_export_png'"
      ]
     },
     "execution_count": 20,
     "metadata": {},
     "output_type": "execute_result"
    }
   ],
   "source": [
    "png_path"
   ]
  },
  {
   "cell_type": "code",
   "execution_count": 21,
   "metadata": {},
   "outputs": [
    {
     "data": {
      "text/plain": [
       "'C:\\\\Users\\\\Cai\\\\pdf_split\\\\split_done\\\\png\\\\900_export_png'"
      ]
     },
     "execution_count": 21,
     "metadata": {},
     "output_type": "execute_result"
    }
   ],
   "source": [
    "#如果沒有 png_path 的路徑資料夾的話 build\n",
    "if not os.path.isdir(png_path):\n",
    "    os.mkdir(png_path)\n",
    "png_path"
   ]
  },
  {
   "cell_type": "code",
   "execution_count": 22,
   "metadata": {},
   "outputs": [
    {
     "data": {
      "text/plain": [
       "'C:\\\\Users\\\\Cai\\\\pdf_split\\\\split_done\\\\pdf\\\\900_export'"
      ]
     },
     "execution_count": 22,
     "metadata": {},
     "output_type": "execute_result"
    }
   ],
   "source": [
    "#如果沒有 out_path 的路徑資料夾的話 build\n",
    "if not os.path.isdir(out_path):\n",
    "    os.mkdir(out_path)\n",
    "out_path"
   ]
  },
  {
   "cell_type": "code",
   "execution_count": 23,
   "metadata": {},
   "outputs": [],
   "source": [
    "#為每個檔案建立資料夾\n",
    "for i in range(len(file_name)):\n",
    "    if not os.path.isdir(out_path+'\\\\'+file_name[i]):\n",
    "        os.mkdir(out_path+'\\\\'+file_name[i])\n",
    "    if not os.path.isdir(png_path+'\\\\'+file_name[i]):\n",
    "        os.mkdir(png_path+'\\\\'+file_name[i])"
   ]
  },
  {
   "cell_type": "code",
   "execution_count": null,
   "metadata": {},
   "outputs": [],
   "source": []
  },
  {
   "cell_type": "code",
   "execution_count": null,
   "metadata": {},
   "outputs": [],
   "source": []
  },
  {
   "cell_type": "code",
   "execution_count": null,
   "metadata": {},
   "outputs": [],
   "source": []
  }
 ],
 "metadata": {
  "kernelspec": {
   "display_name": "Python 3",
   "language": "python",
   "name": "python3"
  },
  "language_info": {
   "codemirror_mode": {
    "name": "ipython",
    "version": 3
   },
   "file_extension": ".py",
   "mimetype": "text/x-python",
   "name": "python",
   "nbconvert_exporter": "python",
   "pygments_lexer": "ipython3",
   "version": "3.8.5"
  }
 },
 "nbformat": 4,
 "nbformat_minor": 4
}
