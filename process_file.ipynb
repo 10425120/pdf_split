{
 "cells": [
  {
   "cell_type": "code",
   "execution_count": 20,
   "metadata": {},
   "outputs": [],
   "source": [
    "import os\n",
    "import pdfplumber\n"
   ]
  },
  {
   "cell_type": "markdown",
   "metadata": {},
   "source": [
    "# 抓取各檔案 與 建立輸出檔案位置"
   ]
  },
  {
   "cell_type": "code",
   "execution_count": 21,
   "metadata": {},
   "outputs": [
    {
     "data": {
      "text/plain": [
       "'C:\\\\Users\\\\Cai\\\\pdf_split'"
      ]
     },
     "execution_count": 21,
     "metadata": {},
     "output_type": "execute_result"
    }
   ],
   "source": [
    "path=os.getcwd()\n",
    "out_path=path\n",
    "png_path=path\n",
    "path"
   ]
  },
  {
   "cell_type": "code",
   "execution_count": 22,
   "metadata": {},
   "outputs": [],
   "source": [
    "path_of_process='900'"
   ]
  },
  {
   "cell_type": "code",
   "execution_count": 23,
   "metadata": {},
   "outputs": [],
   "source": [
    "file='\\\\'+path_of_process\n",
    "file_export='\\\\'+path_of_process+'_export'\n",
    "file_export_png='\\\\'+path_of_process+'_export_png'\n",
    "#輸出位置\n",
    "\n",
    "path+=file\n",
    "out_path+='\\\\split_done\\\\pdf'+file_export\n",
    "png_path+='\\\\split_done\\\\png'+file_export_png"
   ]
  },
  {
   "cell_type": "code",
   "execution_count": 24,
   "metadata": {},
   "outputs": [
    {
     "data": {
      "text/plain": [
       "'C:\\\\Users\\\\Cai\\\\pdf_split\\\\900'"
      ]
     },
     "execution_count": 24,
     "metadata": {},
     "output_type": "execute_result"
    }
   ],
   "source": [
    "path"
   ]
  },
  {
   "cell_type": "code",
   "execution_count": 25,
   "metadata": {},
   "outputs": [
    {
     "data": {
      "text/plain": [
       "'C:\\\\Users\\\\Cai\\\\pdf_split\\\\split_done\\\\pdf\\\\900_export'"
      ]
     },
     "execution_count": 25,
     "metadata": {},
     "output_type": "execute_result"
    }
   ],
   "source": [
    "out_path"
   ]
  },
  {
   "cell_type": "code",
   "execution_count": 26,
   "metadata": {},
   "outputs": [
    {
     "data": {
      "text/plain": [
       "'C:\\\\Users\\\\Cai\\\\pdf_split\\\\split_done\\\\png\\\\900_export_png'"
      ]
     },
     "execution_count": 26,
     "metadata": {},
     "output_type": "execute_result"
    }
   ],
   "source": [
    "png_path"
   ]
  },
  {
   "cell_type": "code",
   "execution_count": 8,
   "metadata": {},
   "outputs": [
    {
     "data": {
      "text/plain": [
       "['01-AI9202XX-1F.pdf']"
      ]
     },
     "execution_count": 8,
     "metadata": {},
     "output_type": "execute_result"
    }
   ],
   "source": [
    "cad=os.listdir(path)\n",
    "cad"
   ]
  },
  {
   "cell_type": "code",
   "execution_count": 9,
   "metadata": {},
   "outputs": [
    {
     "name": "stdout",
     "output_type": "stream",
     "text": [
      "01-AI9202XX-1F\n"
     ]
    }
   ],
   "source": [
    "#file_name = 檔案名稱\n",
    "file_name=[]\n",
    "#file_namepath 檔案根目錄\n",
    "file_namepath=[]\n",
    "#file_namepath_pdf 檔案位置\n",
    "#cad[]為檔案 list\n",
    "file_namepath_pdf=[]\n",
    "for i in range(len(cad)):\n",
    "    #os.path.splitext 去除附檔名   與split('.') 同意思   cad[i][0]  = [第i檔案][0檔名,1副檔名]   \n",
    "    file_name.append(os.path.splitext(cad[i])[0])\n",
    "    file_namepath.append(path+'\\\\'+os.path.splitext(cad[i])[0])\n",
    "    file_namepath_pdf.append(path+'\\\\'+cad[i])\n",
    "    print(os.path.splitext(cad[i])[0])"
   ]
  },
  {
   "cell_type": "code",
   "execution_count": 10,
   "metadata": {},
   "outputs": [
    {
     "data": {
      "text/plain": [
       "['01-AI9202XX-1F']"
      ]
     },
     "execution_count": 10,
     "metadata": {},
     "output_type": "execute_result"
    }
   ],
   "source": [
    "file_name"
   ]
  },
  {
   "cell_type": "code",
   "execution_count": 11,
   "metadata": {},
   "outputs": [
    {
     "data": {
      "text/plain": [
       "['C:\\\\Users\\\\Cai\\\\pdf_split\\\\900\\\\01-AI9202XX-1F.pdf']"
      ]
     },
     "execution_count": 11,
     "metadata": {},
     "output_type": "execute_result"
    }
   ],
   "source": [
    "file_namepath_pdf"
   ]
  },
  {
   "cell_type": "code",
   "execution_count": null,
   "metadata": {},
   "outputs": [],
   "source": []
  },
  {
   "cell_type": "markdown",
   "metadata": {},
   "source": [
    "# 處理 pdf頁數切割  照片擷取  設備編號  "
   ]
  },
  {
   "cell_type": "code",
   "execution_count": 12,
   "metadata": {},
   "outputs": [],
   "source": [
    "from pdf2image import convert_from_path\n"
   ]
  },
  {
   "cell_type": "code",
   "execution_count": 13,
   "metadata": {},
   "outputs": [],
   "source": [
    "from PyPDF2 import PdfFileReader, PdfFileWriter\n",
    "def split_format(page, tup):\n",
    "    page.mediaBox.lowerLeft=(tup[0],tup[1])\n",
    "    page.mediaBox.lowerRight=(tup[2],tup[1])\n",
    "    page.mediaBox.upperLeft = (tup[0], tup[3])\n",
    "    page.mediaBox.upperRight = (tup[2], tup[3])\n",
    "    \n",
    "def split(path, name_of_split):\n",
    "    #檔案\n",
    "    pdf = PdfFileReader(path)\n",
    "    pp=pdfplumber.open(path)\n",
    "\n",
    "    for page in range(pdf.getNumPages()):\n",
    "        #設備編號 取得\n",
    "        first_page = pp.pages[page]\n",
    "        table = first_page.extract_words()\n",
    "        file_num=table[4]['text'].split(':')[1]\n",
    "        \n",
    "        #裁切圖片\n",
    "        #page為各頁  得到各頁file參數\n",
    "        this_page1 = pdf.getPage(page)\n",
    "        #進行裁切   \n",
    "        #this_page1 現在頁(非頁碼,為該頁的資訊)\n",
    "        #後面數字為欲切割的範圍  ((x,y),(x,y))\n",
    "        split_format(this_page1, (110,482,486,765))\n",
    "        \n",
    "        #輸出 output\n",
    "        pdf_writer = PdfFileWriter()\n",
    "        pdf_writer.addPage(pdf.getPage(page))\n",
    "        print(page)\n",
    "        #輸出pdf\n",
    "        ot=name_of_split+'\\\\'+file_name[i]+'\\\\'+file_name[i]+'-'\n",
    "        output = f'{ot}{file_num}.pdf'\n",
    "        with open(output, 'wb') as output_pdf:\n",
    "            pdf_writer.write(output_pdf)\n",
    "            ot_png=png_path+'\\\\'+file_name[i]+'\\\\'+file_name[i]+'-'\n",
    "        #轉存png\n",
    "        output_jpg = f'{ot_png}{file_num}.png'\n",
    "        print(output_jpg)\n",
    "        pages = convert_from_path(output)\n",
    "        pages[0].save(output_jpg, 'PNG')\n",
    "        #pages[0]代表第一頁  \n",
    "\n",
    "\n"
   ]
  },
  {
   "cell_type": "code",
   "execution_count": 14,
   "metadata": {
    "scrolled": true
   },
   "outputs": [
    {
     "name": "stdout",
     "output_type": "stream",
     "text": [
      "C:\\Users\\Cai\\pdf_split\\900\\01-AI9202XX-1F.pdf\n",
      "0\n",
      "C:\\Users\\Cai\\pdf_split\\split_done\\png\\900_export_png\\01-AI9202XX-1F\\01-AI9202XX-1F-02.png\n",
      "1\n",
      "C:\\Users\\Cai\\pdf_split\\split_done\\png\\900_export_png\\01-AI9202XX-1F\\01-AI9202XX-1F-03.png\n",
      "2\n",
      "C:\\Users\\Cai\\pdf_split\\split_done\\png\\900_export_png\\01-AI9202XX-1F\\01-AI9202XX-1F-04.png\n",
      "3\n",
      "C:\\Users\\Cai\\pdf_split\\split_done\\png\\900_export_png\\01-AI9202XX-1F\\01-AI9202XX-1F-05.png\n",
      "4\n",
      "C:\\Users\\Cai\\pdf_split\\split_done\\png\\900_export_png\\01-AI9202XX-1F\\01-AI9202XX-1F-06.png\n",
      "5\n",
      "C:\\Users\\Cai\\pdf_split\\split_done\\png\\900_export_png\\01-AI9202XX-1F\\01-AI9202XX-1F-07.png\n",
      "6\n",
      "C:\\Users\\Cai\\pdf_split\\split_done\\png\\900_export_png\\01-AI9202XX-1F\\01-AI9202XX-1F-10.png\n",
      "7\n",
      "C:\\Users\\Cai\\pdf_split\\split_done\\png\\900_export_png\\01-AI9202XX-1F\\01-AI9202XX-1F-11.png\n",
      "8\n",
      "C:\\Users\\Cai\\pdf_split\\split_done\\png\\900_export_png\\01-AI9202XX-1F\\01-AI9202XX-1F-12.png\n",
      "9\n",
      "C:\\Users\\Cai\\pdf_split\\split_done\\png\\900_export_png\\01-AI9202XX-1F\\01-AI9202XX-1F-16.png\n",
      "10\n",
      "C:\\Users\\Cai\\pdf_split\\split_done\\png\\900_export_png\\01-AI9202XX-1F\\01-AI9202XX-1F-17.png\n",
      "11\n",
      "C:\\Users\\Cai\\pdf_split\\split_done\\png\\900_export_png\\01-AI9202XX-1F\\01-AI9202XX-1F-18.png\n",
      "12\n",
      "C:\\Users\\Cai\\pdf_split\\split_done\\png\\900_export_png\\01-AI9202XX-1F\\01-AI9202XX-1F-19.png\n",
      "13\n",
      "C:\\Users\\Cai\\pdf_split\\split_done\\png\\900_export_png\\01-AI9202XX-1F\\01-AI9202XX-1F-52.png\n",
      "14\n",
      "C:\\Users\\Cai\\pdf_split\\split_done\\png\\900_export_png\\01-AI9202XX-1F\\01-AI9202XX-1F-53.png\n",
      "15\n",
      "C:\\Users\\Cai\\pdf_split\\split_done\\png\\900_export_png\\01-AI9202XX-1F\\01-AI9202XX-1F-54.png\n",
      "16\n",
      "C:\\Users\\Cai\\pdf_split\\split_done\\png\\900_export_png\\01-AI9202XX-1F\\01-AI9202XX-1F-54.png\n",
      "17\n",
      "C:\\Users\\Cai\\pdf_split\\split_done\\png\\900_export_png\\01-AI9202XX-1F\\01-AI9202XX-1F-75.png\n",
      "18\n",
      "C:\\Users\\Cai\\pdf_split\\split_done\\png\\900_export_png\\01-AI9202XX-1F\\01-AI9202XX-1F-76.png\n"
     ]
    }
   ],
   "source": [
    "# def split(path, name_of_split):\n",
    "# path 為欲分割檔案  \n",
    "#name_of_split為輸出檔案路徑+名稱\n",
    "for i in range(len(cad)):    \n",
    "    print(file_namepath_pdf[i])\n",
    "    split(file_namepath_pdf[i], out_path)"
   ]
  },
  {
   "cell_type": "code",
   "execution_count": 27,
   "metadata": {},
   "outputs": [],
   "source": [
    "#check path not wrong"
   ]
  },
  {
   "cell_type": "code",
   "execution_count": 15,
   "metadata": {},
   "outputs": [
    {
     "data": {
      "text/plain": [
       "'C:\\\\Users\\\\Cai\\\\pdf_split\\\\split_done\\\\pdf\\\\900_export\\\\01-AI9202XX-1F\\\\01-AI9202XX-1F-'"
      ]
     },
     "execution_count": 15,
     "metadata": {},
     "output_type": "execute_result"
    }
   ],
   "source": [
    "out_path+'\\\\'+file_name[i]+'\\\\'+file_name[i]+'-'"
   ]
  },
  {
   "cell_type": "code",
   "execution_count": 16,
   "metadata": {},
   "outputs": [
    {
     "data": {
      "text/plain": [
       "'C:\\\\Users\\\\Cai\\\\pdf_split\\\\split_done\\\\pdf\\\\900_export'"
      ]
     },
     "execution_count": 16,
     "metadata": {},
     "output_type": "execute_result"
    }
   ],
   "source": [
    "out_path"
   ]
  },
  {
   "cell_type": "code",
   "execution_count": 17,
   "metadata": {},
   "outputs": [
    {
     "data": {
      "text/plain": [
       "'C:\\\\Users\\\\Cai\\\\pdf_split\\\\split_done\\\\png\\\\900_export_png'"
      ]
     },
     "execution_count": 17,
     "metadata": {},
     "output_type": "execute_result"
    }
   ],
   "source": [
    "png_path"
   ]
  },
  {
   "cell_type": "code",
   "execution_count": 18,
   "metadata": {},
   "outputs": [
    {
     "data": {
      "text/plain": [
       "'C:\\\\Users\\\\Cai\\\\pdf_split\\\\split_done\\\\png\\\\900_export_png\\\\01-AI9202XX-1F\\\\01-AI9202XX-1F-'"
      ]
     },
     "execution_count": 18,
     "metadata": {},
     "output_type": "execute_result"
    }
   ],
   "source": [
    "png_path+'\\\\'+file_name[i]+'\\\\'+file_name[i]+'-'"
   ]
  },
  {
   "cell_type": "code",
   "execution_count": null,
   "metadata": {},
   "outputs": [],
   "source": []
  }
 ],
 "metadata": {
  "kernelspec": {
   "display_name": "Python 3",
   "language": "python",
   "name": "python3"
  },
  "language_info": {
   "codemirror_mode": {
    "name": "ipython",
    "version": 3
   },
   "file_extension": ".py",
   "mimetype": "text/x-python",
   "name": "python",
   "nbconvert_exporter": "python",
   "pygments_lexer": "ipython3",
   "version": "3.8.5"
  }
 },
 "nbformat": 4,
 "nbformat_minor": 4
}
